{
 "cells": [
  {
   "cell_type": "code",
   "execution_count": 8,
   "id": "matched-denver",
   "metadata": {},
   "outputs": [],
   "source": [
    "import speech_recognition as sr"
   ]
  },
  {
   "cell_type": "code",
   "execution_count": 12,
   "id": "moving-condition",
   "metadata": {},
   "outputs": [
    {
     "name": "stdout",
     "output_type": "stream",
     "text": [
      "START\n",
      "Time is over\n",
      "halo halo dicoba Silakan masuk Selamat datang dicoba Silakan masuk Selamat datang tes tes tes 123 tes\n"
     ]
    }
   ],
   "source": [
    "engine = sr.Recognizer()\n",
    "suara = sr.Microphone()\n",
    "text = \"\"\n",
    "\n",
    "with suara as source:\n",
    "    print(\"START\")\n",
    "    rekam = engine.listen(source)\n",
    "    print(\"Time is over\")\n",
    "    \n",
    "    try:\n",
    "        text = engine.recognize_google(rekam, language = \"id-ID\")\n",
    "        print(text)\n",
    "    except engine.UnknownValueError:\n",
    "        print(\"Unidentified Sound, Try again please\")\n",
    "    except Exception as e:\n",
    "        print(e)\n",
    "    "
   ]
  },
  {
   "cell_type": "code",
   "execution_count": null,
   "id": "impressed-husband",
   "metadata": {},
   "outputs": [],
   "source": []
  },
  {
   "cell_type": "code",
   "execution_count": null,
   "id": "ancient-television",
   "metadata": {},
   "outputs": [],
   "source": []
  }
 ],
 "metadata": {
  "kernelspec": {
   "display_name": "Python 3",
   "language": "python",
   "name": "python3"
  },
  "language_info": {
   "codemirror_mode": {
    "name": "ipython",
    "version": 3
   },
   "file_extension": ".py",
   "mimetype": "text/x-python",
   "name": "python",
   "nbconvert_exporter": "python",
   "pygments_lexer": "ipython3",
   "version": "3.8.7"
  }
 },
 "nbformat": 4,
 "nbformat_minor": 5
}
